{
 "cells": [
  {
   "cell_type": "markdown",
   "metadata": {},
   "source": [
    "# CPC Speech usage examples"
   ]
  },
  {
   "cell_type": "markdown",
   "metadata": {},
   "source": [
    "## Extract speech embeddings"
   ]
  },
  {
   "cell_type": "code",
   "execution_count": 2,
   "metadata": {},
   "outputs": [],
   "source": [
    "# ! pip freeze"
   ]
  },
  {
   "cell_type": "code",
   "execution_count": null,
   "metadata": {},
   "outputs": [],
   "source": []
  },
  {
   "cell_type": "code",
   "execution_count": 9,
   "metadata": {},
   "outputs": [],
   "source": [
    "from cpcspeech.cpcspeech import CPC_speech\n",
    "import h5py\n",
    "import numpy as np\n",
    "from sklearn.manifold import TSNE\n",
    "import matplotlib.pyplot as plt"
   ]
  },
  {
   "cell_type": "code",
   "execution_count": 75,
   "metadata": {},
   "outputs": [],
   "source": [
    "data_path = '/path/to/data'\n",
    "\n",
    "sample_data = h5py.File(data_path, 'r')\n",
    "seq_len = 20480\n",
    "X = np.array([sample_data[k][:seq_len] for k in list(sample_data.keys())])\n",
    "X = X[:,np.newaxis,:]"
   ]
  },
  {
   "cell_type": "code",
   "execution_count": 76,
   "metadata": {},
   "outputs": [],
   "source": [
    "model_path = '/path/to/trained/model'\n",
    "cpc = CPC_speech()\n",
    "cpc.load_pretrained_model(model_path)"
   ]
  },
  {
   "cell_type": "code",
   "execution_count": null,
   "metadata": {},
   "outputs": [],
   "source": [
    "speech_emb = cpc.transform(X)"
   ]
  },
  {
   "cell_type": "code",
   "execution_count": null,
   "metadata": {},
   "outputs": [],
   "source": [
    "tsne_spk_emb = TSNE(n_components=2).fit_transform(speech_emb)\n",
    "plt.scatter(tsne_spk_emb[:,0],tsne_spk_emb[:,1])"
   ]
  },
  {
   "cell_type": "code",
   "execution_count": null,
   "metadata": {},
   "outputs": [],
   "source": []
  },
  {
   "cell_type": "markdown",
   "metadata": {},
   "source": [
    "## Preprocess dataset"
   ]
  },
  {
   "cell_type": "code",
   "execution_count": 8,
   "metadata": {},
   "outputs": [],
   "source": [
    "import sys\n",
    "from cpcspeech.data import LibriSpeech100_preprocessing"
   ]
  },
  {
   "cell_type": "code",
   "execution_count": 11,
   "metadata": {},
   "outputs": [],
   "source": [
    "data_path = '/path/to/librispeech/dataset/raw'\n",
    "split_path = '/path/to/labels/split'\n",
    "processed_data_path = '/path/to/librispeech/dataset/processed'\n",
    "seq_len = 20480\n",
    "\n",
    "train_file_list_path = split_path+'train_split.txt'\n",
    "valid_file_list_path = split_path+'valid_split.txt'\n",
    "valid_file_list_path = split_path+'test_split.txt'\n",
    "\n",
    "train_output_path = processed_data_path+'librispeech_train.hdf5'\n",
    "valid_output_path = processed_data_path+'librispeech_valid.hdf5'\n",
    "test_output_path  = processed_data_path+'librispeech_test.hdf5'"
   ]
  },
  {
   "cell_type": "code",
   "execution_count": null,
   "metadata": {},
   "outputs": [],
   "source": [
    "LibriSpeech100_preprocessing(train_file_list_path, data_path, train_output_path, seq_len)\n",
    "LibriSpeech100_preprocessing(valid_file_list_path, data_path, valid_output_path, seq_len)\n",
    "LibriSpeech100_preprocessing(test_file_list_path, data_path, test_output_path, seq_len)"
   ]
  },
  {
   "cell_type": "code",
   "execution_count": null,
   "metadata": {},
   "outputs": [],
   "source": []
  },
  {
   "cell_type": "markdown",
   "metadata": {},
   "source": [
    "## CPC training"
   ]
  },
  {
   "cell_type": "code",
   "execution_count": 11,
   "metadata": {},
   "outputs": [],
   "source": [
    "from cpcspeech.cpcspeech import CPC_speech"
   ]
  },
  {
   "cell_type": "code",
   "execution_count": 12,
   "metadata": {},
   "outputs": [],
   "source": [
    "cpc = CPC_speech(gpu=False)"
   ]
  },
  {
   "cell_type": "code",
   "execution_count": 13,
   "metadata": {},
   "outputs": [],
   "source": [
    "# ls ../../data/processed/"
   ]
  },
  {
   "cell_type": "code",
   "execution_count": 14,
   "metadata": {},
   "outputs": [],
   "source": [
    "train_path = '../../data/processed/librispeech_train.hdf5'\n",
    "valid_path = '../../data/processed/librispeech_valid.hdf5'\n",
    "\n",
    "cpc.load_train_data(train_path, valid_path)"
   ]
  },
  {
   "cell_type": "code",
   "execution_count": 18,
   "metadata": {},
   "outputs": [
    {
     "name": "stdout",
     "output_type": "stream",
     "text": [
      "-- epoch 0 --\n",
      "train loss: 1.9852441549301147\n",
      "valid loss: 2.2060420513153076\n",
      "best valid loss: 2.2060420513153076\n",
      "-- epoch 1 --\n",
      "train loss: 1.8924161195755005\n",
      "valid loss: 2.352430582046509\n",
      "best valid loss: 2.2060420513153076\n",
      "-- epoch 2 --\n",
      "train loss: 1.9051995277404785\n",
      "valid loss: 2.0747182369232178\n",
      "best valid loss: 2.0747182369232178\n",
      "-- epoch 3 --\n",
      "train loss: 1.8350616693496704\n",
      "valid loss: 3.195948839187622\n",
      "best valid loss: 2.0747182369232178\n",
      "-- epoch 4 --\n",
      "train loss: 1.7793012857437134\n",
      "valid loss: 2.506135940551758\n",
      "best valid loss: 2.0747182369232178\n",
      "-- epoch 5 --\n",
      "train loss: 1.8379188776016235\n",
      "valid loss: 1.758689284324646\n",
      "best valid loss: 1.758689284324646\n",
      "-- epoch 6 --\n",
      "train loss: 1.76254141330719\n",
      "valid loss: 1.8230606317520142\n",
      "best valid loss: 1.758689284324646\n",
      "-- epoch 7 --\n",
      "train loss: 1.7868300676345825\n",
      "valid loss: 1.881134033203125\n",
      "best valid loss: 1.758689284324646\n",
      "-- epoch 8 --\n",
      "train loss: 1.8055979013442993\n",
      "valid loss: 1.8854780197143555\n",
      "best valid loss: 1.758689284324646\n",
      "-- epoch 9 --\n",
      "train loss: 1.8117256164550781\n",
      "valid loss: 1.9472767114639282\n",
      "best valid loss: 1.758689284324646\n",
      "-- epoch 10 --\n",
      "train loss: 1.9742766618728638\n",
      "valid loss: 1.983965277671814\n",
      "best valid loss: 1.758689284324646\n",
      "-- epoch 11 --\n",
      "train loss: 1.776774525642395\n",
      "valid loss: 1.82096529006958\n",
      "best valid loss: 1.758689284324646\n",
      "-- epoch 12 --\n",
      "train loss: 1.765238642692566\n",
      "valid loss: 1.8670395612716675\n",
      "best valid loss: 1.758689284324646\n",
      "-- epoch 13 --\n",
      "train loss: 1.6979279518127441\n",
      "valid loss: 1.842006802558899\n",
      "best valid loss: 1.758689284324646\n",
      "-- epoch 14 --\n",
      "train loss: 1.7793002128601074\n",
      "valid loss: 1.7543526887893677\n",
      "best valid loss: 1.7543526887893677\n",
      "-- epoch 15 --\n",
      "train loss: 1.7059370279312134\n",
      "valid loss: 1.692987322807312\n",
      "best valid loss: 1.692987322807312\n",
      "-- epoch 16 --\n",
      "train loss: 1.6757196187973022\n",
      "valid loss: 1.7113605737686157\n",
      "best valid loss: 1.692987322807312\n",
      "-- epoch 17 --\n",
      "train loss: 1.7149691581726074\n",
      "valid loss: 1.7701209783554077\n",
      "best valid loss: 1.692987322807312\n",
      "-- epoch 18 --\n",
      "train loss: 1.7409859895706177\n",
      "valid loss: 1.700502872467041\n",
      "best valid loss: 1.692987322807312\n",
      "-- epoch 19 --\n",
      "train loss: 1.6769589185714722\n",
      "valid loss: 1.761431336402893\n",
      "best valid loss: 1.692987322807312\n",
      "-- epoch 20 --\n",
      "train loss: 1.6567150354385376\n",
      "valid loss: 1.7996491193771362\n",
      "best valid loss: 1.692987322807312\n",
      "-- epoch 21 --\n",
      "train loss: 1.7438486814498901\n",
      "valid loss: 1.7289015054702759\n",
      "best valid loss: 1.692987322807312\n",
      "-- epoch 22 --\n",
      "train loss: 1.6148568391799927\n",
      "valid loss: 1.935145378112793\n",
      "best valid loss: 1.692987322807312\n",
      "-- epoch 23 --\n",
      "train loss: 1.6703896522521973\n",
      "valid loss: 1.899480938911438\n",
      "best valid loss: 1.692987322807312\n",
      "-- epoch 24 --\n",
      "train loss: 1.5667247772216797\n",
      "valid loss: 1.6786575317382812\n",
      "best valid loss: 1.6786575317382812\n",
      "-- epoch 25 --\n",
      "train loss: 1.6160935163497925\n",
      "valid loss: 1.8545557260513306\n",
      "best valid loss: 1.6786575317382812\n",
      "-- epoch 26 --\n",
      "train loss: 1.6722235679626465\n",
      "valid loss: 2.0469353199005127\n",
      "best valid loss: 1.6786575317382812\n",
      "-- epoch 27 --\n",
      "train loss: 1.6963173151016235\n",
      "valid loss: 2.010319948196411\n",
      "best valid loss: 1.6786575317382812\n",
      "-- epoch 28 --\n",
      "train loss: 1.7338963747024536\n",
      "valid loss: 1.7510818243026733\n",
      "best valid loss: 1.6786575317382812\n",
      "-- epoch 29 --\n",
      "train loss: 1.6304925680160522\n",
      "valid loss: 1.6965904235839844\n",
      "best valid loss: 1.6786575317382812\n",
      "-- epoch 30 --\n",
      "train loss: 1.7193714380264282\n",
      "valid loss: 1.8770852088928223\n",
      "best valid loss: 1.6786575317382812\n",
      "-- epoch 31 --\n",
      "train loss: 1.6456764936447144\n",
      "valid loss: 1.7951964139938354\n",
      "best valid loss: 1.6786575317382812\n",
      "-- epoch 32 --\n",
      "train loss: 1.560312271118164\n",
      "valid loss: 1.8446216583251953\n",
      "best valid loss: 1.6786575317382812\n",
      "-- epoch 33 --\n",
      "train loss: 1.5392069816589355\n",
      "valid loss: 1.502612590789795\n",
      "best valid loss: 1.502612590789795\n",
      "-- epoch 34 --\n",
      "train loss: 1.475844383239746\n",
      "valid loss: 1.9441856145858765\n",
      "best valid loss: 1.502612590789795\n",
      "-- epoch 35 --\n",
      "train loss: 1.570998191833496\n",
      "valid loss: 1.9428812265396118\n",
      "best valid loss: 1.502612590789795\n",
      "-- epoch 36 --\n",
      "train loss: 1.6059613227844238\n",
      "valid loss: 1.8608404397964478\n",
      "best valid loss: 1.502612590789795\n",
      "-- epoch 37 --\n",
      "train loss: 1.6264066696166992\n",
      "valid loss: 1.7110353708267212\n",
      "best valid loss: 1.502612590789795\n",
      "-- epoch 38 --\n",
      "train loss: 1.4951915740966797\n",
      "valid loss: 2.1137959957122803\n",
      "best valid loss: 1.502612590789795\n",
      "-- epoch 39 --\n",
      "train loss: 1.450015902519226\n",
      "valid loss: 1.6084266901016235\n",
      "best valid loss: 1.502612590789795\n",
      "-- epoch 40 --\n",
      "train loss: 1.5720044374465942\n",
      "valid loss: 1.6706076860427856\n",
      "best valid loss: 1.502612590789795\n",
      "-- epoch 41 --\n",
      "train loss: 1.5072776079177856\n",
      "valid loss: 1.5243316888809204\n",
      "best valid loss: 1.502612590789795\n",
      "-- epoch 42 --\n",
      "train loss: 1.5269184112548828\n",
      "valid loss: 1.4599289894104004\n",
      "best valid loss: 1.4599289894104004\n",
      "-- epoch 43 --\n",
      "train loss: 1.438559889793396\n",
      "valid loss: 1.4516544342041016\n",
      "best valid loss: 1.4516544342041016\n",
      "-- epoch 44 --\n",
      "train loss: 1.5154796838760376\n",
      "valid loss: 1.4162954092025757\n",
      "best valid loss: 1.4162954092025757\n",
      "-- epoch 45 --\n",
      "train loss: 1.4755048751831055\n",
      "valid loss: 1.552320957183838\n",
      "best valid loss: 1.4162954092025757\n",
      "-- epoch 46 --\n",
      "train loss: 1.4301543235778809\n",
      "valid loss: 1.560778021812439\n",
      "best valid loss: 1.4162954092025757\n",
      "-- epoch 47 --\n",
      "train loss: 1.5301181077957153\n",
      "valid loss: 1.5868139266967773\n",
      "best valid loss: 1.4162954092025757\n",
      "-- epoch 48 --\n",
      "train loss: 1.5983880758285522\n",
      "valid loss: 1.7457903623580933\n",
      "best valid loss: 1.4162954092025757\n",
      "-- epoch 49 --\n",
      "train loss: 1.5411657094955444\n",
      "valid loss: 1.473291277885437\n",
      "best valid loss: 1.4162954092025757\n"
     ]
    }
   ],
   "source": [
    "cpc.train(50,plot=False)"
   ]
  },
  {
   "cell_type": "code",
   "execution_count": 23,
   "metadata": {},
   "outputs": [
    {
     "data": {
      "text/plain": [
       "(1.4, 2.0)"
      ]
     },
     "execution_count": 23,
     "metadata": {},
     "output_type": "execute_result"
    },
    {
     "data": {
      "image/png": "[encoded data removed]",
      "text/plain": [
       "<Figure size 432x288 with 1 Axes>"
      ]
     },
     "metadata": {
      "needs_background": "light"
     },
     "output_type": "display_data"
    }
   ],
   "source": [
    "plt.plot([l.item() for l in cpc.training.train_loss_hist],'-o',label='training')\n",
    "plt.plot([l.item() for l in cpc.training.valid_loss_hist],'-o',label='validation')\n",
    "plt.ylabel('infoNCE loss',fontsize=15)\n",
    "plt.xlabel('epoch',fontsize=15)\n",
    "plt.legend()\n",
    "plt.ylim(1.4,2.)"
   ]
  },
  {
   "cell_type": "code",
   "execution_count": 18,
   "metadata": {},
   "outputs": [],
   "source": [
    "save_model_folder = '../trained_models/'\n",
    "cpc.save_model(save_model_folder)"
   ]
  },
  {
   "cell_type": "code",
   "execution_count": null,
   "metadata": {},
   "outputs": [],
   "source": []
  },
  {
   "cell_type": "markdown",
   "metadata": {},
   "source": [
    "## Speaker classification with CPC embeddings"
   ]
  },
  {
   "cell_type": "code",
   "execution_count": 19,
   "metadata": {},
   "outputs": [],
   "source": [
    "from cpcspeech.models import MLP\n",
    "from cpcspeech.cpcspeech import CPC_speech\n",
    "from cpcspeech.data import LibriSpeech100_dataset_spk_class\n",
    "from cpcspeech.train import Spk_Training\n",
    "\n",
    "import torch\n",
    "from torch.utils.data import DataLoader\n",
    "import torch.nn.functional as F\n",
    "import torch.optim as optim"
   ]
  },
  {
   "cell_type": "code",
   "execution_count": 20,
   "metadata": {},
   "outputs": [],
   "source": [
    "device_type = 'cuda' #'cpu'\n",
    "device = torch.device(device_type)"
   ]
  },
  {
   "cell_type": "code",
   "execution_count": null,
   "metadata": {},
   "outputs": [],
   "source": []
  },
  {
   "cell_type": "markdown",
   "metadata": {},
   "source": [
    "### load dataset"
   ]
  },
  {
   "cell_type": "code",
   "execution_count": 21,
   "metadata": {},
   "outputs": [],
   "source": [
    "train_path = '/path/to/librispeech/dataset/processed/train'\n",
    "valid_path = '/path/to/librispeech/dataset/processed/valid'\n",
    "test_path = '/path/to/librispeech/dataset/processed/test'"
   ]
  },
  {
   "cell_type": "code",
   "execution_count": null,
   "metadata": {},
   "outputs": [],
   "source": []
  },
  {
   "cell_type": "code",
   "execution_count": 22,
   "metadata": {},
   "outputs": [],
   "source": [
    "seq_len = 20480\n",
    "batch_size = 64\n",
    "\n",
    "train_spk_data = LibriSpeech100_dataset_spk_class(train_path,seq_len,batch_size)\n",
    "train_spk_dataloader = DataLoader(train_spk_data, batch_size=batch_size, shuffle=True, num_workers=0)\n",
    "\n",
    "valid_spk_data = LibriSpeech100_dataset_spk_class(train_path,seq_len,batch_size)\n",
    "valid_spk_dataloader = DataLoader(valid_spk_data, batch_size=batch_size, shuffle=True, num_workers=0)\n",
    "\n",
    "test_spk_data = LibriSpeech100_dataset_spk_class(train_path,seq_len,batch_size)\n",
    "test_spk_dataloader = DataLoader(valid_spk_data, batch_size=batch_size, shuffle=True, num_workers=0)"
   ]
  },
  {
   "cell_type": "markdown",
   "metadata": {},
   "source": [
    "### load and freeze CPC model"
   ]
  },
  {
   "cell_type": "code",
   "execution_count": 24,
   "metadata": {},
   "outputs": [],
   "source": [
    "model_path = '/path/to/trained/model'"
   ]
  },
  {
   "cell_type": "code",
   "execution_count": 25,
   "metadata": {},
   "outputs": [],
   "source": [
    "cpc = CPC_speech(gpu=True)\n",
    "cpc.load_pretrained_model(model_path)\n",
    "cpc.freeze()\n",
    "cpc_model = cpc.cpc_model"
   ]
  },
  {
   "cell_type": "markdown",
   "metadata": {},
   "source": [
    "### initialize MLP speaker model"
   ]
  },
  {
   "cell_type": "code",
   "execution_count": 27,
   "metadata": {},
   "outputs": [],
   "source": [
    "n_speakers = len(train_spk_data.unique_spk_ids)\n",
    "emb_size = 256\n",
    "inner_size = 512\n",
    "spk_classifier = MLP(emb_size, inner_size, n_speakers).to(device)"
   ]
  },
  {
   "cell_type": "markdown",
   "metadata": {},
   "source": [
    "### train"
   ]
  },
  {
   "cell_type": "code",
   "execution_count": 28,
   "metadata": {},
   "outputs": [],
   "source": [
    "train_params = [p for p in spk_classifier.parameters() if p.requires_grad == True]\n",
    "optimizer = optim.Adam(train_params, lr=0.0002, betas=(0.9, 0.98), eps=1e-09, weight_decay=1e-4, amsgrad=True)\n",
    "loss = F.nll_loss"
   ]
  },
  {
   "cell_type": "code",
   "execution_count": 1,
   "metadata": {
    "scrolled": true
   },
   "outputs": [],
   "source": [
    "n_epochs = 100\n",
    "spk_training = Spk_Training(cpc_model, spk_classifier, loss, optimizer, device)\n",
    "spk_training.train(train_spk_dataloader, valid_spk_dataloader, n_epochs, plot=False)"
   ]
  },
  {
   "cell_type": "code",
   "execution_count": 30,
   "metadata": {},
   "outputs": [
    {
     "name": "stdout",
     "output_type": "stream",
     "text": [
      "test loss:  0.16810425608827356\n",
      "test acc:  0.9575109649122807\n"
     ]
    }
   ],
   "source": [
    "test_loss, test_acc = spk_training.validation_epoch(test_spk_dataloader)\n",
    "print('test loss: ', test_loss)\n",
    "print('test acc: ', test_acc)"
   ]
  },
  {
   "cell_type": "code",
   "execution_count": 36,
   "metadata": {},
   "outputs": [
    {
     "data": {
      "text/plain": [
       "<matplotlib.legend.Legend at 0x7fd28e0cbcc0>"
      ]
     },
     "execution_count": 36,
     "metadata": {},
     "output_type": "execute_result"
    },
    {
     "data": {
      "image/png": "[encoded data removed]",
      "text/plain": [
       "<Figure size 432x288 with 1 Axes>"
      ]
     },
     "metadata": {
      "needs_background": "light"
     },
     "output_type": "display_data"
    }
   ],
   "source": [
    "import matplotlib.pyplot as plt\n",
    "plt.plot(spk_training.train_loss_hist,'-o',label='training')\n",
    "plt.plot(spk_training.valid_loss_hist,'-o',label='validation')\n",
    "plt.ylabel('NLL loss',fontsize=15)\n",
    "plt.xlabel('epoch',fontsize=15)\n",
    "plt.legend()"
   ]
  }
 ],
 "metadata": {
  "kernelspec": {
   "display_name": "python_cpc_env",
   "language": "python",
   "name": "cpc_env"
  },
  "language_info": {
   "codemirror_mode": {
    "name": "ipython",
    "version": 3
   },
   "file_extension": ".py",
   "mimetype": "text/x-python",
   "name": "python",
   "nbconvert_exporter": "python",
   "pygments_lexer": "ipython3",
   "version": "3.9.0"
  }
 },
 "nbformat": 4,
 "nbformat_minor": 2
}
