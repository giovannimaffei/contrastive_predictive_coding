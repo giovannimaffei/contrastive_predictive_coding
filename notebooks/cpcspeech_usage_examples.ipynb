{
 "cells": [
  {
   "cell_type": "markdown",
   "metadata": {},
   "source": [
    "# CPC Speech usage examples"
   ]
  },
  {
   "cell_type": "markdown",
   "metadata": {},
   "source": [
    "## Extract speech embeddings"
   ]
  },
  {
   "cell_type": "code",
   "execution_count": 74,
   "metadata": {},
   "outputs": [],
   "source": [
    "from cpcspeech.cpcspeech import CPC_speech\n",
    "import h5py\n",
    "import numpy as np\n",
    "from sklearn.manifold import TSNE\n",
    "import matplotlib.pyplot as plt"
   ]
  },
  {
   "cell_type": "code",
   "execution_count": 75,
   "metadata": {},
   "outputs": [],
   "source": [
    "data_path = '/path/to/data'\n",
    "\n",
    "sample_data = h5py.File(data_path, 'r')\n",
    "seq_len = 20480\n",
    "X = np.array([sample_data[k][:seq_len] for k in list(sample_data.keys())])\n",
    "X = X[:,np.newaxis,:]"
   ]
  },
  {
   "cell_type": "code",
   "execution_count": 76,
   "metadata": {},
   "outputs": [],
   "source": [
    "model_path = '/path/to/trained/model'\n",
    "cpc = CPC_speech()\n",
    "cpc.load_pretrained_model(model_path)"
   ]
  },
  {
   "cell_type": "code",
   "execution_count": null,
   "metadata": {},
   "outputs": [],
   "source": [
    "speech_emb = cpc.transform(X)"
   ]
  },
  {
   "cell_type": "code",
   "execution_count": null,
   "metadata": {},
   "outputs": [],
   "source": [
    "tsne_spk_emb = TSNE(n_components=2).fit_transform(speech_emb)\n",
    "plt.scatter(tsne_spk_emb[:,0],tsne_spk_emb[:,1])"
   ]
  },
  {
   "cell_type": "code",
   "execution_count": null,
   "metadata": {},
   "outputs": [],
   "source": []
  },
  {
   "cell_type": "markdown",
   "metadata": {},
   "source": [
    "## Preprocess dataset"
   ]
  },
  {
   "cell_type": "code",
   "execution_count": 8,
   "metadata": {},
   "outputs": [],
   "source": [
    "import sys\n",
    "from cpcspeech.data import LibriSpeech100_preprocessing"
   ]
  },
  {
   "cell_type": "code",
   "execution_count": 11,
   "metadata": {},
   "outputs": [],
   "source": [
    "data_path = '/path/to/librispeech/dataset/raw'\n",
    "split_path = '/path/to/labels/split'\n",
    "processed_data_path = '/path/to/librispeech/dataset/processed'\n",
    "seq_len = 20480\n",
    "\n",
    "train_file_list_path = split_path+'train_split.txt'\n",
    "valid_file_list_path = split_path+'valid_split.txt'\n",
    "valid_file_list_path = split_path+'test_split.txt'\n",
    "\n",
    "train_output_path = processed_data_path+'librispeech_train.hdf5'\n",
    "valid_output_path = processed_data_path+'librispeech_valid.hdf5'\n",
    "test_output_path  = processed_data_path+'librispeech_test.hdf5'"
   ]
  },
  {
   "cell_type": "code",
   "execution_count": null,
   "metadata": {},
   "outputs": [],
   "source": [
    "LibriSpeech100_preprocessing(train_file_list_path, data_path, train_output_path, seq_len)\n",
    "LibriSpeech100_preprocessing(valid_file_list_path, data_path, valid_output_path, seq_len)\n",
    "LibriSpeech100_preprocessing(test_file_list_path, data_path, test_output_path, seq_len)"
   ]
  },
  {
   "cell_type": "code",
   "execution_count": null,
   "metadata": {},
   "outputs": [],
   "source": []
  },
  {
   "cell_type": "markdown",
   "metadata": {},
   "source": [
    "## CPC training"
   ]
  },
  {
   "cell_type": "code",
   "execution_count": 2,
   "metadata": {},
   "outputs": [],
   "source": [
    "from cpcspeech.cpcspeech import CPC_speech"
   ]
  },
  {
   "cell_type": "code",
   "execution_count": 3,
   "metadata": {},
   "outputs": [],
   "source": [
    "cpc = CPC_speech(gpu=True)"
   ]
  },
  {
   "cell_type": "code",
   "execution_count": 4,
   "metadata": {},
   "outputs": [],
   "source": [
    "train_path = '/path/to/librispeech/dataset/processed/train'\n",
    "valid_path = '/path/to/librispeech/dataset/processed/valid'\n",
    "\n",
    "cpc.load_train_data(train_path, valid_path)"
   ]
  },
  {
   "cell_type": "code",
   "execution_count": 73,
   "metadata": {},
   "outputs": [],
   "source": [
    "cpc.train(100,plot=False)"
   ]
  },
  {
   "cell_type": "code",
   "execution_count": 15,
   "metadata": {},
   "outputs": [
    {
     "data": {
      "text/plain": [
       "<matplotlib.legend.Legend at 0x7fd28e691cc0>"
      ]
     },
     "execution_count": 15,
     "metadata": {},
     "output_type": "execute_result"
    },
    {
     "data": {
      "image/png": "[encoded data removed]",
      "text/plain": [
       "<Figure size 432x288 with 1 Axes>"
      ]
     },
     "metadata": {
      "needs_background": "light"
     },
     "output_type": "display_data"
    }
   ],
   "source": [
    "plt.plot([l.item() for l in cpc.training.train_loss_hist],'-o',label='training')\n",
    "plt.plot([l.item() for l in cpc.training.valid_loss_hist],'-o',label='validation')\n",
    "plt.ylabel('infoNCE loss',fontsize=15)\n",
    "plt.xlabel('epoch',fontsize=15)\n",
    "plt.legend()"
   ]
  },
  {
   "cell_type": "code",
   "execution_count": 18,
   "metadata": {},
   "outputs": [],
   "source": [
    "save_model_folder = '../trained_models/'\n",
    "cpc.save_model(save_model_folder)"
   ]
  },
  {
   "cell_type": "code",
   "execution_count": null,
   "metadata": {},
   "outputs": [],
   "source": []
  },
  {
   "cell_type": "markdown",
   "metadata": {},
   "source": [
    "## Speaker classification with CPC embeddings"
   ]
  },
  {
   "cell_type": "code",
   "execution_count": 19,
   "metadata": {},
   "outputs": [],
   "source": [
    "from cpcspeech.models import MLP\n",
    "from cpcspeech.cpcspeech import CPC_speech\n",
    "from cpcspeech.data import LibriSpeech100_dataset_spk_class\n",
    "from cpcspeech.train import Spk_Training\n",
    "\n",
    "import torch\n",
    "from torch.utils.data import DataLoader\n",
    "import torch.nn.functional as F\n",
    "import torch.optim as optim"
   ]
  },
  {
   "cell_type": "code",
   "execution_count": 20,
   "metadata": {},
   "outputs": [],
   "source": [
    "device_type = 'cuda' #'cpu'\n",
    "device = torch.device(device_type)"
   ]
  },
  {
   "cell_type": "code",
   "execution_count": null,
   "metadata": {},
   "outputs": [],
   "source": []
  },
  {
   "cell_type": "markdown",
   "metadata": {},
   "source": [
    "### load dataset"
   ]
  },
  {
   "cell_type": "code",
   "execution_count": 21,
   "metadata": {},
   "outputs": [],
   "source": [
    "train_path = '/path/to/librispeech/dataset/processed/train'\n",
    "valid_path = '/path/to/librispeech/dataset/processed/valid'\n",
    "test_path = '/path/to/librispeech/dataset/processed/test'"
   ]
  },
  {
   "cell_type": "code",
   "execution_count": null,
   "metadata": {},
   "outputs": [],
   "source": []
  },
  {
   "cell_type": "code",
   "execution_count": 22,
   "metadata": {},
   "outputs": [],
   "source": [
    "seq_len = 20480\n",
    "batch_size = 64\n",
    "\n",
    "train_spk_data = LibriSpeech100_dataset_spk_class(train_path,seq_len,batch_size)\n",
    "train_spk_dataloader = DataLoader(train_spk_data, batch_size=batch_size, shuffle=True, num_workers=0)\n",
    "\n",
    "valid_spk_data = LibriSpeech100_dataset_spk_class(train_path,seq_len,batch_size)\n",
    "valid_spk_dataloader = DataLoader(valid_spk_data, batch_size=batch_size, shuffle=True, num_workers=0)\n",
    "\n",
    "test_spk_data = LibriSpeech100_dataset_spk_class(train_path,seq_len,batch_size)\n",
    "test_spk_dataloader = DataLoader(valid_spk_data, batch_size=batch_size, shuffle=True, num_workers=0)"
   ]
  },
  {
   "cell_type": "markdown",
   "metadata": {},
   "source": [
    "### load and freeze CPC model"
   ]
  },
  {
   "cell_type": "code",
   "execution_count": 24,
   "metadata": {},
   "outputs": [],
   "source": [
    "model_path = '/path/to/trained/model'"
   ]
  },
  {
   "cell_type": "code",
   "execution_count": 25,
   "metadata": {},
   "outputs": [],
   "source": [
    "cpc = CPC_speech(gpu=True)\n",
    "cpc.load_pretrained_model(model_path)\n",
    "cpc.freeze()\n",
    "cpc_model = cpc.cpc_model"
   ]
  },
  {
   "cell_type": "markdown",
   "metadata": {},
   "source": [
    "### initialize MLP speaker model"
   ]
  },
  {
   "cell_type": "code",
   "execution_count": 27,
   "metadata": {},
   "outputs": [],
   "source": [
    "n_speakers = len(train_spk_data.unique_spk_ids)\n",
    "emb_size = 256\n",
    "inner_size = 512\n",
    "spk_classifier = MLP(emb_size, inner_size, n_speakers).to(device)"
   ]
  },
  {
   "cell_type": "markdown",
   "metadata": {},
   "source": [
    "### train"
   ]
  },
  {
   "cell_type": "code",
   "execution_count": 28,
   "metadata": {},
   "outputs": [],
   "source": [
    "train_params = [p for p in spk_classifier.parameters() if p.requires_grad == True]\n",
    "optimizer = optim.Adam(train_params, lr=0.0002, betas=(0.9, 0.98), eps=1e-09, weight_decay=1e-4, amsgrad=True)\n",
    "loss = F.nll_loss"
   ]
  },
  {
   "cell_type": "code",
   "execution_count": 1,
   "metadata": {
    "scrolled": true
   },
   "outputs": [],
   "source": [
    "n_epochs = 100\n",
    "spk_training = Spk_Training(cpc_model, spk_classifier, loss, optimizer, device)\n",
    "spk_training.train(train_spk_dataloader, valid_spk_dataloader, n_epochs, plot=False)"
   ]
  },
  {
   "cell_type": "code",
   "execution_count": 30,
   "metadata": {},
   "outputs": [
    {
     "name": "stdout",
     "output_type": "stream",
     "text": [
      "test loss:  0.16810425608827356\n",
      "test acc:  0.9575109649122807\n"
     ]
    }
   ],
   "source": [
    "test_loss, test_acc = spk_training.validation_epoch(test_spk_dataloader)\n",
    "print('test loss: ', test_loss)\n",
    "print('test acc: ', test_acc)"
   ]
  },
  {
   "cell_type": "code",
   "execution_count": 36,
   "metadata": {},
   "outputs": [
    {
     "data": {
      "text/plain": [
       "<matplotlib.legend.Legend at 0x7fd28e0cbcc0>"
      ]
     },
     "execution_count": 36,
     "metadata": {},
     "output_type": "execute_result"
    },
    {
     "data": {
      "image/png": "[encoded data removed]",
      "text/plain": [
       "<Figure size 432x288 with 1 Axes>"
      ]
     },
     "metadata": {
      "needs_background": "light"
     },
     "output_type": "display_data"
    }
   ],
   "source": [
    "import matplotlib.pyplot as plt\n",
    "plt.plot(spk_training.train_loss_hist,'-o',label='training')\n",
    "plt.plot(spk_training.valid_loss_hist,'-o',label='validation')\n",
    "plt.ylabel('NLL loss',fontsize=15)\n",
    "plt.xlabel('epoch',fontsize=15)\n",
    "plt.legend()"
   ]
  }
 ],
 "metadata": {
  "kernelspec": {
   "display_name": "python_nlp_env",
   "language": "python",
   "name": "nlp_env"
  },
  "language_info": {
   "codemirror_mode": {
    "name": "ipython",
    "version": 3
   },
   "file_extension": ".py",
   "mimetype": "text/x-python",
   "name": "python",
   "nbconvert_exporter": "python",
   "pygments_lexer": "ipython3",
   "version": "3.6.10"
  }
 },
 "nbformat": 4,
 "nbformat_minor": 2
}
