{
 "cells": [
  {
   "cell_type": "markdown",
   "metadata": {},
   "source": [
    "# CPC Speech usage examples"
   ]
  },
  {
   "cell_type": "code",
   "execution_count": null,
   "metadata": {},
   "outputs": [],
   "source": []
  },
  {
   "cell_type": "markdown",
   "metadata": {},
   "source": [
    "## Extract speech embeddings"
   ]
  },
  {
   "cell_type": "code",
   "execution_count": 18,
   "metadata": {},
   "outputs": [],
   "source": [
    "import sys\n",
    "sys.path.append('cpcspeech/src/cpcspeech')\n",
    "import cpcspeech\n",
    "import h5py\n",
    "import numpy as np\n",
    "from sklearn.manifold import TSNE"
   ]
  },
  {
   "cell_type": "code",
   "execution_count": 19,
   "metadata": {},
   "outputs": [],
   "source": [
    "data_path = 'data/processed/librispeech_valid.hdf5'\n",
    "sample_data = h5py.File(data_path, 'r')\n",
    "seq_len = 20480\n",
    "X = np.array([sample_data[k][:seq_len] for k in list(sample_data.keys())])\n",
    "X = X[:,np.newaxis,:]"
   ]
  },
  {
   "cell_type": "code",
   "execution_count": 20,
   "metadata": {},
   "outputs": [],
   "source": [
    "model_path = './workstation/contrastive_predictive_coding/trained_models/cpc_test_model_2020-10-06-11-04-37'\n",
    "cpc = cpc_speech.CPC_speech()\n",
    "cpc.load_pretrained_model(model_path)"
   ]
  },
  {
   "cell_type": "code",
   "execution_count": 21,
   "metadata": {},
   "outputs": [],
   "source": [
    "speech_emb = cpc.transform(X)\n",
    "# spk_lbl = "
   ]
  },
  {
   "cell_type": "code",
   "execution_count": null,
   "metadata": {},
   "outputs": [],
   "source": [
    "tsne_spk_emb = TSNE(n_components=2).fit_transform(speech_emb)\n",
    "plt.scatter(tsne_spk_emb[:,0],tsne_spk_emb[:,1],c=spk_lbl)"
   ]
  },
  {
   "cell_type": "code",
   "execution_count": null,
   "metadata": {},
   "outputs": [],
   "source": []
  },
  {
   "cell_type": "markdown",
   "metadata": {},
   "source": [
    "## Preprocess dataset"
   ]
  },
  {
   "cell_type": "code",
   "execution_count": null,
   "metadata": {},
   "outputs": [],
   "source": [
    "import sys\n",
    "sys.path.append('cpc_speech/src/cpc_speech')\n",
    "from data import LibriSpeech100_preprocessing"
   ]
  },
  {
   "cell_type": "code",
   "execution_count": null,
   "metadata": {},
   "outputs": [],
   "source": [
    "# data_path = '/home/giovanni.maffei/datasets/librispeech/LibriSpeech/train-clean-100/'\n",
    "data_path = '../../datasets/libri_speech/LibriSpeech/train-clean-100/'\n",
    "split_path = 'data/labels_split/'\n",
    "processed_data_path = 'data/processed/'\n",
    "seq_len = 20480\n",
    "\n",
    "train_file_list_path = split_path+'train_split.txt'\n",
    "valid_file_list_path = split_path+'valid_split.txt'\n",
    "# test_file_list_path  = '/home/giovanni.maffei/datasets/librispeech/oord_label_split/test_split.txt'\n",
    "\n",
    "train_output_path = processed_data_path+'librispeech_train.hdf5'\n",
    "valid_output_path = processed_data_path+'librispeech_valid.hdf5'\n",
    "# test_output_path  = processed_data_path+'librispeech_test.hdf5'"
   ]
  },
  {
   "cell_type": "code",
   "execution_count": null,
   "metadata": {},
   "outputs": [],
   "source": [
    "LibriSpeech100_preprocessing(train_file_list_path, data_path, train_output_path, seq_len)\n",
    "LibriSpeech100_preprocessing(valid_file_list_path, data_path, valid_output_path, seq_len)"
   ]
  },
  {
   "cell_type": "code",
   "execution_count": null,
   "metadata": {},
   "outputs": [],
   "source": []
  },
  {
   "cell_type": "markdown",
   "metadata": {},
   "source": [
    "## CPC training"
   ]
  },
  {
   "cell_type": "code",
   "execution_count": null,
   "metadata": {},
   "outputs": [],
   "source": [
    "import sys\n",
    "sys.path.append('cpc_speech/src/cpc_speech')\n",
    "import cpc_speech"
   ]
  },
  {
   "cell_type": "code",
   "execution_count": 4,
   "metadata": {},
   "outputs": [],
   "source": [
    "cpc = cpc_speech.CPC_speech()"
   ]
  },
  {
   "cell_type": "code",
   "execution_count": 5,
   "metadata": {},
   "outputs": [],
   "source": [
    "train_path = 'data/processed/librispeech_train.hdf5'\n",
    "valid_path = 'data/processed/librispeech_valid.hdf5'\n",
    "cpc.load_train_data(train_path, valid_path)"
   ]
  },
  {
   "cell_type": "code",
   "execution_count": 11,
   "metadata": {},
   "outputs": [],
   "source": [
    "cpc.train(100,lr=0.01, plot=True)"
   ]
  },
  {
   "cell_type": "code",
   "execution_count": 7,
   "metadata": {},
   "outputs": [],
   "source": [
    "save_model_folder = 'trained_models/'\n",
    "cpc.save_model(save_model_folder)"
   ]
  },
  {
   "cell_type": "code",
   "execution_count": null,
   "metadata": {},
   "outputs": [],
   "source": []
  },
  {
   "cell_type": "markdown",
   "metadata": {},
   "source": [
    "## Speaker classification with CPC embeddings"
   ]
  },
  {
   "cell_type": "code",
   "execution_count": 4,
   "metadata": {},
   "outputs": [],
   "source": [
    "from models import MLP#, CPC\n",
    "from data import LibriSpeech100_dataset_spk_class\n",
    "from train import Spk_Training\n",
    "import cpc_speech\n",
    "import torch\n",
    "from torch.utils.data import DataLoader\n",
    "import torch.nn.functional as F\n",
    "import torch.optim as optim"
   ]
  },
  {
   "cell_type": "code",
   "execution_count": 5,
   "metadata": {},
   "outputs": [],
   "source": [
    "device_type = 'cpu'\n",
    "# device_type = 'cuda'\n",
    "device = torch.device(device_type)"
   ]
  },
  {
   "cell_type": "markdown",
   "metadata": {},
   "source": [
    "### load dataset"
   ]
  },
  {
   "cell_type": "code",
   "execution_count": 8,
   "metadata": {},
   "outputs": [],
   "source": [
    "train_path = 'data/processed/librispeech_train.hdf5'\n",
    "train_path = 'data/processed/librispeech_valid.hdf5'\n",
    "seq_len = 20480\n",
    "batch_size = 64\n",
    "\n",
    "train_spk_data = LibriSpeech100_dataset_spk_class(train_path,seq_len,batch_size)\n",
    "train_spk_dataloader = DataLoader(train_spk_data, batch_size=batch_size, shuffle=True, num_workers=0)\n",
    "\n",
    "valid_spk_data = LibriSpeech100_dataset_spk_class(train_path,seq_len,batch_size)\n",
    "valid_spk_dataloader = DataLoader(valid_spk_data, batch_size=batch_size, shuffle=True, num_workers=0)"
   ]
  },
  {
   "cell_type": "markdown",
   "metadata": {},
   "source": [
    "### load CPC model"
   ]
  },
  {
   "cell_type": "code",
   "execution_count": 6,
   "metadata": {},
   "outputs": [],
   "source": [
    "cpc = cpc_speech.CPC_speech()\n",
    "cpc.load_pretrained_model('workstation/contrastive_predictive_coding/trained_models/cpc_test_model_2020-10-06-11-04-37')\n",
    "cpc.freeze()\n",
    "cpc_model = cpc.cpc_model"
   ]
  },
  {
   "cell_type": "code",
   "execution_count": 7,
   "metadata": {},
   "outputs": [],
   "source": [
    "# seq_len = 20480\n",
    "# comp_rate = 160\n",
    "# n_timesteps = 12\n",
    "\n",
    "# cpc_model = CPC(n_timesteps, seq_len).to(device)\n",
    "# cpc_model.load_state_dict(torch.load('workstation/contrastive_predictive_coding/trained_models/cpc_test_model_2020-10-06-11-04-37', map_location=device))\n",
    "\n",
    "# for param in cpc_model.parameters():\n",
    "#     param.requires_grad = False"
   ]
  },
  {
   "cell_type": "markdown",
   "metadata": {},
   "source": [
    "### initialize MLP speaker model"
   ]
  },
  {
   "cell_type": "code",
   "execution_count": 9,
   "metadata": {},
   "outputs": [],
   "source": [
    "n_speakers = len(train_spk_data.unique_spk_ids)\n",
    "emb_size = 256\n",
    "inner_size = 512\n",
    "spk_classifier = MLP(emb_size, inner_size, n_speakers)"
   ]
  },
  {
   "cell_type": "markdown",
   "metadata": {},
   "source": [
    "### train"
   ]
  },
  {
   "cell_type": "code",
   "execution_count": null,
   "metadata": {},
   "outputs": [],
   "source": [
    "train_params = [p for p in spk_classifier.parameters() if p.requires_grad == True]\n",
    "optimizer = optim.Adam(train_params, lr=0.0002, betas=(0.9, 0.98), eps=1e-09, weight_decay=1e-4, amsgrad=True)\n",
    "loss = F.nll_loss"
   ]
  },
  {
   "cell_type": "code",
   "execution_count": 9,
   "metadata": {},
   "outputs": [
    {
     "name": "stdout",
     "output_type": "stream",
     "text": [
      "-- epoch 0 --\n",
      "train loss: 0.1045440062880516\n",
      "valid loss: 0.08936391025781631\n",
      "best valid loss: 0.08936391025781631\n",
      "train accuracy: 0.0\n",
      "valid accuracy: 0.0\n"
     ]
    },
    {
     "data": {
      "image/png": "[encoded data removed]",
      "text/plain": [
       "<Figure size 432x288 with 2 Axes>"
      ]
     },
     "metadata": {
      "needs_background": "light"
     },
     "output_type": "display_data"
    },
    {
     "name": "stdout",
     "output_type": "stream",
     "text": [
      "-- epoch 1 --\n",
      "train loss: 0.10566898435354233\n",
      "valid loss: 0.08745819330215454\n",
      "best valid loss: 0.08745819330215454\n",
      "train accuracy: 0.0\n",
      "valid accuracy: 0.0\n"
     ]
    },
    {
     "data": {
      "image/png": "[encoded data removed]",
      "text/plain": [
       "<Figure size 432x288 with 2 Axes>"
      ]
     },
     "metadata": {
      "needs_background": "light"
     },
     "output_type": "display_data"
    },
    {
     "name": "stdout",
     "output_type": "stream",
     "text": [
      "-- epoch 2 --\n",
      "train loss: 0.10029075294733047\n",
      "valid loss: 0.0860469862818718\n",
      "best valid loss: 0.0860469862818718\n",
      "train accuracy: 0.0\n",
      "valid accuracy: 0.015625\n"
     ]
    },
    {
     "data": {
      "image/png": "[encoded data removed]",
      "text/plain": [
       "<Figure size 432x288 with 2 Axes>"
      ]
     },
     "metadata": {
      "needs_background": "light"
     },
     "output_type": "display_data"
    },
    {
     "name": "stdout",
     "output_type": "stream",
     "text": [
      "-- epoch 3 --\n",
      "train loss: 0.10110612213611603\n",
      "valid loss: 0.08200940489768982\n",
      "best valid loss: 0.08200940489768982\n",
      "train accuracy: 0.00048828125\n",
      "valid accuracy: 0.015625\n"
     ]
    },
    {
     "data": {
      "image/png": "[encoded data removed]",
      "text/plain": [
       "<Figure size 432x288 with 2 Axes>"
      ]
     },
     "metadata": {
      "needs_background": "light"
     },
     "output_type": "display_data"
    },
    {
     "name": "stdout",
     "output_type": "stream",
     "text": [
      "-- epoch 4 --\n",
      "train loss: 0.09875445067882538\n",
      "valid loss: 0.08007921278476715\n",
      "best valid loss: 0.08007921278476715\n",
      "train accuracy: 0.0\n",
      "valid accuracy: 0.015625\n"
     ]
    },
    {
     "data": {
      "image/png": "[encoded data removed]",
      "text/plain": [
       "<Figure size 432x288 with 2 Axes>"
      ]
     },
     "metadata": {
      "needs_background": "light"
     },
     "output_type": "display_data"
    }
   ],
   "source": [
    "n_epochs = 5\n",
    "spk_training = Spk_Training(cpc_model, spk_classifier, loss, optimizer, train_spk_dataloader, valid_spk_dataloader, device)\n",
    "spk_training.train(n_epochs, plot=True)"
   ]
  }
 ],
 "metadata": {
  "kernelspec": {
   "display_name": "python_nlp_env",
   "language": "python",
   "name": "nlp_env"
  },
  "language_info": {
   "codemirror_mode": {
    "name": "ipython",
    "version": 3
   },
   "file_extension": ".py",
   "mimetype": "text/x-python",
   "name": "python",
   "nbconvert_exporter": "python",
   "pygments_lexer": "ipython3",
   "version": "3.6.10"
  }
 },
 "nbformat": 4,
 "nbformat_minor": 2
}
